{
 "cells": [
  {
   "cell_type": "markdown",
   "id": "ad9c0f08",
   "metadata": {},
   "source": [
    "# Data Science Tools and Ecosystem"
   ]
  },
  {
   "cell_type": "markdown",
   "id": "5a62477e",
   "metadata": {},
   "source": [
    "In this notebook, Data Science Tools and Ecosystem are summarized."
   ]
  },
  {
   "cell_type": "markdown",
   "id": "d158c97b",
   "metadata": {},
   "source": [
    "Some of the popular languages that Data Scientists use are:\n",
    "1. Python\n",
    "2. R\n",
    "3. SQL"
   ]
  },
  {
   "cell_type": "markdown",
   "id": "dd610fe3",
   "metadata": {},
   "source": [
    "**Objectives**\n",
    "+ popular libraries used in Data Science\n",
    "+ popular Data Science tools\n",
    "+ simple arithmatice operation\n",
    "+ conversion of minutes to hour"
   ]
  },
  {
   "cell_type": "markdown",
   "id": "40f604d9",
   "metadata": {},
   "source": [
    "Some of the commonly used libraries used by Data Scientists include:\n",
    "1. Pandas\n",
    "2. Matplotlib\n",
    "3. scikit-learn\n",
    "4. numpy\n",
    "    "
   ]
  },
  {
   "cell_type": "markdown",
   "id": "1838780b",
   "metadata": {},
   "source": [
    "|Data Science Tools |\n",
    "------------------------\n",
    "|R-Studio|\n",
    "|Apache Spark|\n",
    "|Apache Hadoop|"
   ]
  },
  {
   "cell_type": "markdown",
   "id": "3acb1d68",
   "metadata": {},
   "source": [
    "### Below are a few examples of evaluating arithmetic expressions in Python"
   ]
  },
  {
   "cell_type": "code",
   "execution_count": 2,
   "id": "612ee4df",
   "metadata": {},
   "outputs": [
    {
     "name": "stdout",
     "output_type": "stream",
     "text": [
      "17\n"
     ]
    }
   ],
   "source": [
    "#This a simple arithmetic expression to mutiply then add integers\n",
    "var=(3*4)+5\n",
    "print(var)"
   ]
  },
  {
   "cell_type": "code",
   "execution_count": 4,
   "id": "35553dda",
   "metadata": {},
   "outputs": [
    {
     "name": "stdout",
     "output_type": "stream",
     "text": [
      "3.3333333333333335\n"
     ]
    }
   ],
   "source": [
    "#This will convert 200 minutes to hours by diving by 60\n",
    "minutes=200\n",
    "hour = minutes/60\n",
    "print(hour)"
   ]
  },
  {
   "cell_type": "markdown",
   "id": "71447300",
   "metadata": {},
   "source": [
    "## Author\n",
    "Sonty Chatterjee"
   ]
  },
  {
   "cell_type": "code",
   "execution_count": null,
   "id": "2f569216",
   "metadata": {},
   "outputs": [],
   "source": []
  }
 ],
 "metadata": {
  "kernelspec": {
   "display_name": "Python 3 (ipykernel)",
   "language": "python",
   "name": "python3"
  },
  "language_info": {
   "codemirror_mode": {
    "name": "ipython",
    "version": 3
   },
   "file_extension": ".py",
   "mimetype": "text/x-python",
   "name": "python",
   "nbconvert_exporter": "python",
   "pygments_lexer": "ipython3",
   "version": "3.10.9"
  }
 },
 "nbformat": 4,
 "nbformat_minor": 5
}
